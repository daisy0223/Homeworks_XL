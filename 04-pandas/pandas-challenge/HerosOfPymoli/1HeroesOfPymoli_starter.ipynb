{
 "cells": [
  {
   "cell_type": "markdown",
   "metadata": {},
   "source": [
    "### Heroes Of Pymoli Data Analysis\n",
    "* Of the 1163 active players, the vast majority are male (84%). There also exists, a smaller, but notable proportion of female players (14%).\n",
    "\n",
    "* Our peak age demographic falls between 20-24 (44.8%) with secondary groups falling between 15-19 (18.60%) and 25-29 (13.4%).  \n",
    "-----"
   ]
  },
  {
   "cell_type": "markdown",
   "metadata": {},
   "source": [
    "### Note\n",
    "* Instructions have been included for each segment. You do not have to follow them exactly, but they are included to help you think through the steps."
   ]
  },
  {
   "cell_type": "code",
   "execution_count": 1,
   "metadata": {},
   "outputs": [],
   "source": [
    "# Please see the summary of trends in the word document\n",
    "# Dependencies and Setup\n",
    "import pandas as pd\n",
    "\n",
    "# File to Load (Remember to Change These)\n",
    "file_to_load = \"Resources/purchase_data.csv\"\n",
    "\n",
    "# Read Purchasing File and store into Pandas data frame\n",
    "purchase_data = pd.read_csv(file_to_load)"
   ]
  },
  {
   "cell_type": "markdown",
   "metadata": {},
   "source": [
    "## Player Count"
   ]
  },
  {
   "cell_type": "markdown",
   "metadata": {},
   "source": [
    "* Display the total number of players\n"
   ]
  },
  {
   "cell_type": "code",
   "execution_count": 2,
   "metadata": {},
   "outputs": [
    {
     "data": {
      "text/html": [
       "<div>\n",
       "<style scoped>\n",
       "    .dataframe tbody tr th:only-of-type {\n",
       "        vertical-align: middle;\n",
       "    }\n",
       "\n",
       "    .dataframe tbody tr th {\n",
       "        vertical-align: top;\n",
       "    }\n",
       "\n",
       "    .dataframe thead th {\n",
       "        text-align: right;\n",
       "    }\n",
       "</style>\n",
       "<table border=\"1\" class=\"dataframe\">\n",
       "  <thead>\n",
       "    <tr style=\"text-align: right;\">\n",
       "      <th></th>\n",
       "      <th>Total Players</th>\n",
       "    </tr>\n",
       "  </thead>\n",
       "  <tbody>\n",
       "    <tr>\n",
       "      <th>0</th>\n",
       "      <td>576</td>\n",
       "    </tr>\n",
       "  </tbody>\n",
       "</table>\n",
       "</div>"
      ],
      "text/plain": [
       "   Total Players\n",
       "0            576"
      ]
     },
     "execution_count": 2,
     "metadata": {},
     "output_type": "execute_result"
    }
   ],
   "source": [
    "Total_players=len(purchase_data[\"SN\"].unique())\n",
    "summary_count=pd.DataFrame({\"Total Players\":[Total_players]})\n",
    "summary_count"
   ]
  },
  {
   "cell_type": "markdown",
   "metadata": {},
   "source": [
    "## Purchasing Analysis (Total)"
   ]
  },
  {
   "cell_type": "markdown",
   "metadata": {},
   "source": [
    "* Run basic calculations to obtain number of unique items, average price, etc.\n",
    "\n",
    "\n",
    "* Create a summary data frame to hold the results\n",
    "\n",
    "\n",
    "* Optional: give the displayed data cleaner formatting\n",
    "\n",
    "\n",
    "* Display the summary data frame\n"
   ]
  },
  {
   "cell_type": "code",
   "execution_count": 3,
   "metadata": {
    "scrolled": true
   },
   "outputs": [
    {
     "data": {
      "text/html": [
       "<div>\n",
       "<style scoped>\n",
       "    .dataframe tbody tr th:only-of-type {\n",
       "        vertical-align: middle;\n",
       "    }\n",
       "\n",
       "    .dataframe tbody tr th {\n",
       "        vertical-align: top;\n",
       "    }\n",
       "\n",
       "    .dataframe thead th {\n",
       "        text-align: right;\n",
       "    }\n",
       "</style>\n",
       "<table border=\"1\" class=\"dataframe\">\n",
       "  <thead>\n",
       "    <tr style=\"text-align: right;\">\n",
       "      <th></th>\n",
       "      <th>Number of Unique Items</th>\n",
       "      <th>Average Price</th>\n",
       "      <th>Number of Purchases</th>\n",
       "      <th>Total Revenue</th>\n",
       "    </tr>\n",
       "  </thead>\n",
       "  <tbody>\n",
       "    <tr>\n",
       "      <th>0</th>\n",
       "      <td>179</td>\n",
       "      <td>$3.05</td>\n",
       "      <td>780</td>\n",
       "      <td>$2,379.77</td>\n",
       "    </tr>\n",
       "  </tbody>\n",
       "</table>\n",
       "</div>"
      ],
      "text/plain": [
       "   Number of Unique Items Average Price  Number of Purchases Total Revenue\n",
       "0                     179         $3.05                  780     $2,379.77"
      ]
     },
     "execution_count": 3,
     "metadata": {},
     "output_type": "execute_result"
    }
   ],
   "source": [
    "# calculate\n",
    "Number_of_unique_items=len(purchase_data[\"Item Name\"].unique())\n",
    "Average_price=purchase_data[\"Price\"].mean()\n",
    "Numbers_of_purchase=len(purchase_data[\"Purchase ID\"])\n",
    "Total_Revenue=purchase_data[\"Price\"].sum()\n",
    "# Generate a table\n",
    "summary_purchase=pd.DataFrame({\"Number of Unique Items\":[Number_of_unique_items],\n",
    "                                \"Average Price\":[Average_price],\n",
    "                                \"Number of Purchases\":[Numbers_of_purchase],\n",
    "                                 \"Total Revenue\":[Total_Revenue]})\n",
    "# format the price and revenue with dollar sign\n",
    "summary_purchase[\"Average Price\"]=summary_purchase[\"Average Price\"].map(\"${:,.2f}\".format)\n",
    "summary_purchase[\"Total Revenue\"]=summary_purchase[\"Total Revenue\"].map(\"${:,.2f}\".format)\n",
    "# print out the summary table\n",
    "summary_purchase"
   ]
  },
  {
   "cell_type": "markdown",
   "metadata": {},
   "source": [
    "## Gender Demographics"
   ]
  },
  {
   "cell_type": "markdown",
   "metadata": {},
   "source": [
    "* Percentage and Count of Male Players\n",
    "\n",
    "\n",
    "* Percentage and Count of Female Players\n",
    "\n",
    "\n",
    "* Percentage and Count of Other / Non-Disclosed\n",
    "\n",
    "\n"
   ]
  },
  {
   "cell_type": "code",
   "execution_count": 4,
   "metadata": {},
   "outputs": [
    {
     "data": {
      "text/html": [
       "<div>\n",
       "<style scoped>\n",
       "    .dataframe tbody tr th:only-of-type {\n",
       "        vertical-align: middle;\n",
       "    }\n",
       "\n",
       "    .dataframe tbody tr th {\n",
       "        vertical-align: top;\n",
       "    }\n",
       "\n",
       "    .dataframe thead th {\n",
       "        text-align: right;\n",
       "    }\n",
       "</style>\n",
       "<table border=\"1\" class=\"dataframe\">\n",
       "  <thead>\n",
       "    <tr style=\"text-align: right;\">\n",
       "      <th></th>\n",
       "      <th>Total count</th>\n",
       "      <th>Percentage of Players</th>\n",
       "    </tr>\n",
       "  </thead>\n",
       "  <tbody>\n",
       "    <tr>\n",
       "      <th>Male</th>\n",
       "      <td>484</td>\n",
       "      <td>84.03%</td>\n",
       "    </tr>\n",
       "    <tr>\n",
       "      <th>Female</th>\n",
       "      <td>81</td>\n",
       "      <td>14.06%</td>\n",
       "    </tr>\n",
       "    <tr>\n",
       "      <th>Others/Non-Disclosed</th>\n",
       "      <td>11</td>\n",
       "      <td>1.91%</td>\n",
       "    </tr>\n",
       "  </tbody>\n",
       "</table>\n",
       "</div>"
      ],
      "text/plain": [
       "                      Total count Percentage of Players\n",
       "Male                          484                84.03%\n",
       "Female                         81                14.06%\n",
       "Others/Non-Disclosed           11                 1.91%"
      ]
     },
     "execution_count": 4,
     "metadata": {},
     "output_type": "execute_result"
    }
   ],
   "source": [
    "#calculate and remove duplicates in SN\n",
    "Gender=purchase_data[['SN', 'Gender']]\n",
    "Gender_data=Gender.drop_duplicates()\n",
    "Gender_count=Gender_data['Gender'].value_counts()\n",
    "\n",
    "Total=Gender_count.sum()\n",
    "\n",
    "Percentage_male=Gender_count[0]/Total*100\n",
    "Percentage_female=Gender_count[1]/Total*100\n",
    "Percentage_others=Gender_count[2]/Total*100\n",
    "\n",
    "#Generate summary table\n",
    "summary_demographics=pd.DataFrame({\"Total count\":[Gender_count[0], Gender_count[1], Gender_count[2]],\n",
    "     \"Percentage of Players\":[Percentage_male, Percentage_female,Percentage_others]})\n",
    "summary_demographics.index=([\"Male\", \"Female\", \"Others/Non-Disclosed\"])\n",
    "\n",
    "#format the percentages\n",
    "summary_demographics[\"Percentage of Players\"]=summary_demographics[\"Percentage of Players\"].map(\"{:.2f}%\".format)\n",
    "summary_demographics"
   ]
  },
  {
   "cell_type": "markdown",
   "metadata": {},
   "source": [
    "\n",
    "## Purchasing Analysis (Gender)"
   ]
  },
  {
   "cell_type": "markdown",
   "metadata": {},
   "source": [
    "* Run basic calculations to obtain purchase count, avg. purchase price, avg. purchase total per person etc. by gender\n",
    "\n",
    "\n",
    "\n",
    "\n",
    "* Create a summary data frame to hold the results\n",
    "\n",
    "\n",
    "* Optional: give the displayed data cleaner formatting\n",
    "\n",
    "\n",
    "* Display the summary data frame"
   ]
  },
  {
   "cell_type": "code",
   "execution_count": 5,
   "metadata": {},
   "outputs": [
    {
     "data": {
      "text/html": [
       "<style  type=\"text/css\" >\n",
       "</style><table id=\"T_959080ec_7754_11ea_b0a6_acbc32c4a3d5\" ><thead>    <tr>        <th class=\"blank level0\" ></th>        <th class=\"col_heading level0 col0\" >Purchase Count</th>        <th class=\"col_heading level0 col1\" >Average Purchase Price</th>        <th class=\"col_heading level0 col2\" >Total Purchase Value</th>        <th class=\"col_heading level0 col3\" >Avg Total Purchase per Person</th>    </tr>    <tr>        <th class=\"index_name level0\" >Gender</th>        <th class=\"blank\" ></th>        <th class=\"blank\" ></th>        <th class=\"blank\" ></th>        <th class=\"blank\" ></th>    </tr></thead><tbody>\n",
       "                <tr>\n",
       "                        <th id=\"T_959080ec_7754_11ea_b0a6_acbc32c4a3d5level0_row0\" class=\"row_heading level0 row0\" >Female</th>\n",
       "                        <td id=\"T_959080ec_7754_11ea_b0a6_acbc32c4a3d5row0_col0\" class=\"data row0 col0\" >113</td>\n",
       "                        <td id=\"T_959080ec_7754_11ea_b0a6_acbc32c4a3d5row0_col1\" class=\"data row0 col1\" >$3.20</td>\n",
       "                        <td id=\"T_959080ec_7754_11ea_b0a6_acbc32c4a3d5row0_col2\" class=\"data row0 col2\" >$361.94</td>\n",
       "                        <td id=\"T_959080ec_7754_11ea_b0a6_acbc32c4a3d5row0_col3\" class=\"data row0 col3\" >$4.47</td>\n",
       "            </tr>\n",
       "            <tr>\n",
       "                        <th id=\"T_959080ec_7754_11ea_b0a6_acbc32c4a3d5level0_row1\" class=\"row_heading level0 row1\" >Male</th>\n",
       "                        <td id=\"T_959080ec_7754_11ea_b0a6_acbc32c4a3d5row1_col0\" class=\"data row1 col0\" >652</td>\n",
       "                        <td id=\"T_959080ec_7754_11ea_b0a6_acbc32c4a3d5row1_col1\" class=\"data row1 col1\" >$3.02</td>\n",
       "                        <td id=\"T_959080ec_7754_11ea_b0a6_acbc32c4a3d5row1_col2\" class=\"data row1 col2\" >$1,967.64</td>\n",
       "                        <td id=\"T_959080ec_7754_11ea_b0a6_acbc32c4a3d5row1_col3\" class=\"data row1 col3\" >$4.07</td>\n",
       "            </tr>\n",
       "            <tr>\n",
       "                        <th id=\"T_959080ec_7754_11ea_b0a6_acbc32c4a3d5level0_row2\" class=\"row_heading level0 row2\" >Other / Non-Disclosed</th>\n",
       "                        <td id=\"T_959080ec_7754_11ea_b0a6_acbc32c4a3d5row2_col0\" class=\"data row2 col0\" >15</td>\n",
       "                        <td id=\"T_959080ec_7754_11ea_b0a6_acbc32c4a3d5row2_col1\" class=\"data row2 col1\" >$3.35</td>\n",
       "                        <td id=\"T_959080ec_7754_11ea_b0a6_acbc32c4a3d5row2_col2\" class=\"data row2 col2\" >$50.19</td>\n",
       "                        <td id=\"T_959080ec_7754_11ea_b0a6_acbc32c4a3d5row2_col3\" class=\"data row2 col3\" >$4.56</td>\n",
       "            </tr>\n",
       "    </tbody></table>"
      ],
      "text/plain": [
       "<pandas.io.formats.style.Styler at 0x11d0fd588>"
      ]
     },
     "execution_count": 5,
     "metadata": {},
     "output_type": "execute_result"
    }
   ],
   "source": [
    "# Groupby gender and do calculation\n",
    "Groupbygender=purchase_data.groupby([\"Gender\"])\n",
    "Purchase_count=Groupbygender[\"SN\"].count()\n",
    "Average_purchase_price=Groupbygender[\"Price\"].mean()\n",
    "Total_purchase_value=Groupbygender[\"Price\"].sum()\n",
    "Average_total_purchase_per_person=Total_purchase_value/Gender_count\n",
    "# Generate a summary table\n",
    "summary_purchasing_gender=pd.DataFrame({\"Purchase Count\":Purchase_count,\n",
    "                                       \"Average Purchase Price\":Average_purchase_price,\n",
    "                                       \"Total Purchase Value\":Total_purchase_value, \n",
    "                                    \"Avg Total Purchase per Person\":Average_total_purchase_per_person})\n",
    "# format price, vaule and avg total price\n",
    "summary_purchasing_gender=summary_purchasing_gender.style.format({'Average Purchase Price':'${:,.2f}',\n",
    "                                       'Total Purchase Value':'${:,.2f}',\n",
    "                                      'Avg Total Purchase per Person':'${:,.2f}'})\n",
    "# print out\n",
    "summary_purchasing_gender"
   ]
  },
  {
   "cell_type": "markdown",
   "metadata": {},
   "source": [
    "## Age Demographics"
   ]
  },
  {
   "cell_type": "markdown",
   "metadata": {},
   "source": [
    "* Establish bins for ages\n",
    "\n",
    "\n",
    "* Categorize the existing players using the age bins. Hint: use pd.cut()\n",
    "\n",
    "\n",
    "* Calculate the numbers and percentages by age group\n",
    "\n",
    "\n",
    "* Create a summary data frame to hold the results\n",
    "\n",
    "\n",
    "* Optional: round the percentage column to two decimal points\n",
    "\n",
    "\n",
    "* Display Age Demographics Table\n"
   ]
  },
  {
   "cell_type": "code",
   "execution_count": 6,
   "metadata": {},
   "outputs": [
    {
     "data": {
      "text/html": [
       "<div>\n",
       "<style scoped>\n",
       "    .dataframe tbody tr th:only-of-type {\n",
       "        vertical-align: middle;\n",
       "    }\n",
       "\n",
       "    .dataframe tbody tr th {\n",
       "        vertical-align: top;\n",
       "    }\n",
       "\n",
       "    .dataframe thead th {\n",
       "        text-align: right;\n",
       "    }\n",
       "</style>\n",
       "<table border=\"1\" class=\"dataframe\">\n",
       "  <thead>\n",
       "    <tr style=\"text-align: right;\">\n",
       "      <th></th>\n",
       "      <th>Total Count</th>\n",
       "      <th>Percentage of Players</th>\n",
       "    </tr>\n",
       "  </thead>\n",
       "  <tbody>\n",
       "    <tr>\n",
       "      <th>&lt;10</th>\n",
       "      <td>17</td>\n",
       "      <td>2.95%</td>\n",
       "    </tr>\n",
       "    <tr>\n",
       "      <th>10-14</th>\n",
       "      <td>22</td>\n",
       "      <td>3.82%</td>\n",
       "    </tr>\n",
       "    <tr>\n",
       "      <th>15-19</th>\n",
       "      <td>107</td>\n",
       "      <td>18.58%</td>\n",
       "    </tr>\n",
       "    <tr>\n",
       "      <th>20-24</th>\n",
       "      <td>258</td>\n",
       "      <td>44.79%</td>\n",
       "    </tr>\n",
       "    <tr>\n",
       "      <th>25-29</th>\n",
       "      <td>77</td>\n",
       "      <td>13.37%</td>\n",
       "    </tr>\n",
       "    <tr>\n",
       "      <th>30-34</th>\n",
       "      <td>52</td>\n",
       "      <td>9.03%</td>\n",
       "    </tr>\n",
       "    <tr>\n",
       "      <th>35-39</th>\n",
       "      <td>31</td>\n",
       "      <td>5.38%</td>\n",
       "    </tr>\n",
       "    <tr>\n",
       "      <th>40+</th>\n",
       "      <td>12</td>\n",
       "      <td>2.08%</td>\n",
       "    </tr>\n",
       "  </tbody>\n",
       "</table>\n",
       "</div>"
      ],
      "text/plain": [
       "       Total Count Percentage of Players\n",
       "<10             17                 2.95%\n",
       "10-14           22                 3.82%\n",
       "15-19          107                18.58%\n",
       "20-24          258                44.79%\n",
       "25-29           77                13.37%\n",
       "30-34           52                 9.03%\n",
       "35-39           31                 5.38%\n",
       "40+             12                 2.08%"
      ]
     },
     "execution_count": 6,
     "metadata": {},
     "output_type": "execute_result"
    }
   ],
   "source": [
    "# Bin the data based on ages\n",
    "bins = [0, 9.9, 14.9, 19.9, 24.9, 29.9, 34.9, 39.9, 200]\n",
    "group_names=[\"<10\", \"10-14\", \"15-19\", \"20-24\", \"25-29\", \"30-34\", \"35-39\", \"40+\"]\n",
    "purchase_data[\"Age Demographics\"] = pd.cut(purchase_data[\"Age\"], bins, labels=group_names, include_lowest=True)\n",
    "\n",
    "# add an extra column of \"Age Deomographics\"\n",
    "Age_Demographics = purchase_data.groupby(\"Age Demographics\")\n",
    "\n",
    "# find the unique SN\n",
    "Count_df = Age_Demographics.agg({\"SN\": \"nunique\"})\n",
    "\n",
    "# calculate\n",
    "Total=Count_df.sum()\n",
    "Percentage_of_players= round((Count_df/Total*100), 2)\n",
    "\n",
    "Count_df=Count_df.reset_index()\n",
    "Percentage_of_players=Percentage_of_players.reset_index()\n",
    "\n",
    "Summary_age = Count_df.merge(Percentage_of_players, on=\"Age Demographics\")\n",
    "# Change the index to Age Demographics\n",
    "Summary_age.set_index(\"Age Demographics\", inplace=True)\n",
    "\n",
    "#replace the column headers\n",
    "Summary_age=Summary_age.rename(columns={\"SN_x\":\"Total Count\",\n",
    "                                        \"SN_y\": \"Percentage of Players\"})\n",
    "#Drop the index name\n",
    "Summary_age.index.name = None\n",
    "#fomart the percentage\n",
    "Summary_age[\"Percentage of Players\"]=Summary_age[\"Percentage of Players\"].map(\"{:.2f}%\".format)\n",
    "#print out summary table\n",
    "Summary_age"
   ]
  },
  {
   "cell_type": "code",
   "execution_count": null,
   "metadata": {},
   "outputs": [],
   "source": []
  },
  {
   "cell_type": "markdown",
   "metadata": {},
   "source": [
    "## Purchasing Analysis (Age)"
   ]
  },
  {
   "cell_type": "markdown",
   "metadata": {},
   "source": [
    "* Bin the purchase_data data frame by age\n",
    "\n",
    "\n",
    "* Run basic calculations to obtain purchase count, avg. purchase price, avg. purchase total per person etc. in the table below\n",
    "\n",
    "\n",
    "* Create a summary data frame to hold the results\n",
    "\n",
    "\n",
    "* Optional: give the displayed data cleaner formatting\n",
    "\n",
    "\n",
    "* Display the summary data frame"
   ]
  },
  {
   "cell_type": "code",
   "execution_count": 7,
   "metadata": {},
   "outputs": [
    {
     "data": {
      "text/html": [
       "<style  type=\"text/css\" >\n",
       "</style><table id=\"T_959c22ee_7754_11ea_a76f_acbc32c4a3d5\" ><thead>    <tr>        <th class=\"blank level0\" ></th>        <th class=\"col_heading level0 col0\" >Purchase Count</th>        <th class=\"col_heading level0 col1\" >Average Purchase Price</th>        <th class=\"col_heading level0 col2\" >Total Purchase Value</th>        <th class=\"col_heading level0 col3\" >Avg Total Purchase per Person</th>    </tr>    <tr>        <th class=\"index_name level0\" >Age Demographics</th>        <th class=\"blank\" ></th>        <th class=\"blank\" ></th>        <th class=\"blank\" ></th>        <th class=\"blank\" ></th>    </tr></thead><tbody>\n",
       "                <tr>\n",
       "                        <th id=\"T_959c22ee_7754_11ea_a76f_acbc32c4a3d5level0_row0\" class=\"row_heading level0 row0\" ><10</th>\n",
       "                        <td id=\"T_959c22ee_7754_11ea_a76f_acbc32c4a3d5row0_col0\" class=\"data row0 col0\" >23</td>\n",
       "                        <td id=\"T_959c22ee_7754_11ea_a76f_acbc32c4a3d5row0_col1\" class=\"data row0 col1\" >$3.35</td>\n",
       "                        <td id=\"T_959c22ee_7754_11ea_a76f_acbc32c4a3d5row0_col2\" class=\"data row0 col2\" >$77.13</td>\n",
       "                        <td id=\"T_959c22ee_7754_11ea_a76f_acbc32c4a3d5row0_col3\" class=\"data row0 col3\" >$4.54</td>\n",
       "            </tr>\n",
       "            <tr>\n",
       "                        <th id=\"T_959c22ee_7754_11ea_a76f_acbc32c4a3d5level0_row1\" class=\"row_heading level0 row1\" >10-14</th>\n",
       "                        <td id=\"T_959c22ee_7754_11ea_a76f_acbc32c4a3d5row1_col0\" class=\"data row1 col0\" >28</td>\n",
       "                        <td id=\"T_959c22ee_7754_11ea_a76f_acbc32c4a3d5row1_col1\" class=\"data row1 col1\" >$2.96</td>\n",
       "                        <td id=\"T_959c22ee_7754_11ea_a76f_acbc32c4a3d5row1_col2\" class=\"data row1 col2\" >$82.78</td>\n",
       "                        <td id=\"T_959c22ee_7754_11ea_a76f_acbc32c4a3d5row1_col3\" class=\"data row1 col3\" >$3.76</td>\n",
       "            </tr>\n",
       "            <tr>\n",
       "                        <th id=\"T_959c22ee_7754_11ea_a76f_acbc32c4a3d5level0_row2\" class=\"row_heading level0 row2\" >15-19</th>\n",
       "                        <td id=\"T_959c22ee_7754_11ea_a76f_acbc32c4a3d5row2_col0\" class=\"data row2 col0\" >136</td>\n",
       "                        <td id=\"T_959c22ee_7754_11ea_a76f_acbc32c4a3d5row2_col1\" class=\"data row2 col1\" >$3.04</td>\n",
       "                        <td id=\"T_959c22ee_7754_11ea_a76f_acbc32c4a3d5row2_col2\" class=\"data row2 col2\" >$412.89</td>\n",
       "                        <td id=\"T_959c22ee_7754_11ea_a76f_acbc32c4a3d5row2_col3\" class=\"data row2 col3\" >$3.86</td>\n",
       "            </tr>\n",
       "            <tr>\n",
       "                        <th id=\"T_959c22ee_7754_11ea_a76f_acbc32c4a3d5level0_row3\" class=\"row_heading level0 row3\" >20-24</th>\n",
       "                        <td id=\"T_959c22ee_7754_11ea_a76f_acbc32c4a3d5row3_col0\" class=\"data row3 col0\" >365</td>\n",
       "                        <td id=\"T_959c22ee_7754_11ea_a76f_acbc32c4a3d5row3_col1\" class=\"data row3 col1\" >$3.05</td>\n",
       "                        <td id=\"T_959c22ee_7754_11ea_a76f_acbc32c4a3d5row3_col2\" class=\"data row3 col2\" >$1,114.06</td>\n",
       "                        <td id=\"T_959c22ee_7754_11ea_a76f_acbc32c4a3d5row3_col3\" class=\"data row3 col3\" >$4.32</td>\n",
       "            </tr>\n",
       "            <tr>\n",
       "                        <th id=\"T_959c22ee_7754_11ea_a76f_acbc32c4a3d5level0_row4\" class=\"row_heading level0 row4\" >25-29</th>\n",
       "                        <td id=\"T_959c22ee_7754_11ea_a76f_acbc32c4a3d5row4_col0\" class=\"data row4 col0\" >101</td>\n",
       "                        <td id=\"T_959c22ee_7754_11ea_a76f_acbc32c4a3d5row4_col1\" class=\"data row4 col1\" >$2.90</td>\n",
       "                        <td id=\"T_959c22ee_7754_11ea_a76f_acbc32c4a3d5row4_col2\" class=\"data row4 col2\" >$293.00</td>\n",
       "                        <td id=\"T_959c22ee_7754_11ea_a76f_acbc32c4a3d5row4_col3\" class=\"data row4 col3\" >$3.81</td>\n",
       "            </tr>\n",
       "            <tr>\n",
       "                        <th id=\"T_959c22ee_7754_11ea_a76f_acbc32c4a3d5level0_row5\" class=\"row_heading level0 row5\" >30-34</th>\n",
       "                        <td id=\"T_959c22ee_7754_11ea_a76f_acbc32c4a3d5row5_col0\" class=\"data row5 col0\" >73</td>\n",
       "                        <td id=\"T_959c22ee_7754_11ea_a76f_acbc32c4a3d5row5_col1\" class=\"data row5 col1\" >$2.93</td>\n",
       "                        <td id=\"T_959c22ee_7754_11ea_a76f_acbc32c4a3d5row5_col2\" class=\"data row5 col2\" >$214.00</td>\n",
       "                        <td id=\"T_959c22ee_7754_11ea_a76f_acbc32c4a3d5row5_col3\" class=\"data row5 col3\" >$4.12</td>\n",
       "            </tr>\n",
       "            <tr>\n",
       "                        <th id=\"T_959c22ee_7754_11ea_a76f_acbc32c4a3d5level0_row6\" class=\"row_heading level0 row6\" >35-39</th>\n",
       "                        <td id=\"T_959c22ee_7754_11ea_a76f_acbc32c4a3d5row6_col0\" class=\"data row6 col0\" >41</td>\n",
       "                        <td id=\"T_959c22ee_7754_11ea_a76f_acbc32c4a3d5row6_col1\" class=\"data row6 col1\" >$3.60</td>\n",
       "                        <td id=\"T_959c22ee_7754_11ea_a76f_acbc32c4a3d5row6_col2\" class=\"data row6 col2\" >$147.67</td>\n",
       "                        <td id=\"T_959c22ee_7754_11ea_a76f_acbc32c4a3d5row6_col3\" class=\"data row6 col3\" >$4.76</td>\n",
       "            </tr>\n",
       "            <tr>\n",
       "                        <th id=\"T_959c22ee_7754_11ea_a76f_acbc32c4a3d5level0_row7\" class=\"row_heading level0 row7\" >40+</th>\n",
       "                        <td id=\"T_959c22ee_7754_11ea_a76f_acbc32c4a3d5row7_col0\" class=\"data row7 col0\" >13</td>\n",
       "                        <td id=\"T_959c22ee_7754_11ea_a76f_acbc32c4a3d5row7_col1\" class=\"data row7 col1\" >$2.94</td>\n",
       "                        <td id=\"T_959c22ee_7754_11ea_a76f_acbc32c4a3d5row7_col2\" class=\"data row7 col2\" >$38.24</td>\n",
       "                        <td id=\"T_959c22ee_7754_11ea_a76f_acbc32c4a3d5row7_col3\" class=\"data row7 col3\" >$3.19</td>\n",
       "            </tr>\n",
       "    </tbody></table>"
      ],
      "text/plain": [
       "<pandas.io.formats.style.Styler at 0x11e4862b0>"
      ]
     },
     "execution_count": 7,
     "metadata": {},
     "output_type": "execute_result"
    }
   ],
   "source": [
    "# calculate\n",
    "pc=Age_Demographics[\"Purchase ID\"].count()\n",
    "ap=Age_Demographics[\"Price\"].mean()\n",
    "tpv=Age_Demographics[\"Price\"].sum()\n",
    "\n",
    "#Set index of Age demographics \n",
    "ct=Count_df.set_index(\"Age Demographics\")\n",
    "\n",
    "#Merge two output dataframe together\n",
    "ct_2=ct.merge(tpv, on=\"Age Demographics\")\n",
    "\n",
    "# Calculate Avg Total Purchase per Person (tppp)\n",
    "tppp=ct_2[\"Price\"]/ct_2[\"SN\"]\n",
    "\n",
    "# Generate a summary table\n",
    "summary_purchasing_age=pd.DataFrame({\"Purchase Count\":pc,\n",
    "                                       \"Average Purchase Price\":ap,\n",
    "                                       \"Total Purchase Value\":tpv, \n",
    "                                    \"Avg Total Purchase per Person\":tppp})\n",
    "# format price, vaule and avg total price\n",
    "summary_purchasing_age=summary_purchasing_age.style.format({'Average Purchase Price':'${:,.2f}',\n",
    "                                       'Total Purchase Value':'${:,.2f}',\n",
    "                                      'Avg Total Purchase per Person':'${:,.2f}'})\n",
    "\n",
    "# print\n",
    "summary_purchasing_age"
   ]
  },
  {
   "cell_type": "markdown",
   "metadata": {},
   "source": [
    "## Top Spenders"
   ]
  },
  {
   "cell_type": "markdown",
   "metadata": {},
   "source": [
    "* Run basic calculations to obtain the results in the table below\n",
    "\n",
    "\n",
    "* Create a summary data frame to hold the results\n",
    "\n",
    "\n",
    "* Sort the total purchase value column in descending order\n",
    "\n",
    "\n",
    "* Optional: give the displayed data cleaner formatting\n",
    "\n",
    "\n",
    "* Display a preview of the summary data frame\n",
    "\n"
   ]
  },
  {
   "cell_type": "code",
   "execution_count": 8,
   "metadata": {},
   "outputs": [
    {
     "data": {
      "text/html": [
       "<style  type=\"text/css\" >\n",
       "</style><table id=\"T_959ec5e4_7754_11ea_8195_acbc32c4a3d5\" ><thead>    <tr>        <th class=\"blank level0\" ></th>        <th class=\"col_heading level0 col0\" >Purchase Count</th>        <th class=\"col_heading level0 col1\" >Average Purchase Price</th>        <th class=\"col_heading level0 col2\" >Total Purchase Value</th>    </tr>    <tr>        <th class=\"index_name level0\" >SN</th>        <th class=\"blank\" ></th>        <th class=\"blank\" ></th>        <th class=\"blank\" ></th>    </tr></thead><tbody>\n",
       "                <tr>\n",
       "                        <th id=\"T_959ec5e4_7754_11ea_8195_acbc32c4a3d5level0_row0\" class=\"row_heading level0 row0\" >Lisosia93</th>\n",
       "                        <td id=\"T_959ec5e4_7754_11ea_8195_acbc32c4a3d5row0_col0\" class=\"data row0 col0\" >5</td>\n",
       "                        <td id=\"T_959ec5e4_7754_11ea_8195_acbc32c4a3d5row0_col1\" class=\"data row0 col1\" >$3.79</td>\n",
       "                        <td id=\"T_959ec5e4_7754_11ea_8195_acbc32c4a3d5row0_col2\" class=\"data row0 col2\" >$18.96</td>\n",
       "            </tr>\n",
       "            <tr>\n",
       "                        <th id=\"T_959ec5e4_7754_11ea_8195_acbc32c4a3d5level0_row1\" class=\"row_heading level0 row1\" >Idastidru52</th>\n",
       "                        <td id=\"T_959ec5e4_7754_11ea_8195_acbc32c4a3d5row1_col0\" class=\"data row1 col0\" >4</td>\n",
       "                        <td id=\"T_959ec5e4_7754_11ea_8195_acbc32c4a3d5row1_col1\" class=\"data row1 col1\" >$3.86</td>\n",
       "                        <td id=\"T_959ec5e4_7754_11ea_8195_acbc32c4a3d5row1_col2\" class=\"data row1 col2\" >$15.45</td>\n",
       "            </tr>\n",
       "            <tr>\n",
       "                        <th id=\"T_959ec5e4_7754_11ea_8195_acbc32c4a3d5level0_row2\" class=\"row_heading level0 row2\" >Chamjask73</th>\n",
       "                        <td id=\"T_959ec5e4_7754_11ea_8195_acbc32c4a3d5row2_col0\" class=\"data row2 col0\" >3</td>\n",
       "                        <td id=\"T_959ec5e4_7754_11ea_8195_acbc32c4a3d5row2_col1\" class=\"data row2 col1\" >$4.61</td>\n",
       "                        <td id=\"T_959ec5e4_7754_11ea_8195_acbc32c4a3d5row2_col2\" class=\"data row2 col2\" >$13.83</td>\n",
       "            </tr>\n",
       "            <tr>\n",
       "                        <th id=\"T_959ec5e4_7754_11ea_8195_acbc32c4a3d5level0_row3\" class=\"row_heading level0 row3\" >Iral74</th>\n",
       "                        <td id=\"T_959ec5e4_7754_11ea_8195_acbc32c4a3d5row3_col0\" class=\"data row3 col0\" >4</td>\n",
       "                        <td id=\"T_959ec5e4_7754_11ea_8195_acbc32c4a3d5row3_col1\" class=\"data row3 col1\" >$3.40</td>\n",
       "                        <td id=\"T_959ec5e4_7754_11ea_8195_acbc32c4a3d5row3_col2\" class=\"data row3 col2\" >$13.62</td>\n",
       "            </tr>\n",
       "            <tr>\n",
       "                        <th id=\"T_959ec5e4_7754_11ea_8195_acbc32c4a3d5level0_row4\" class=\"row_heading level0 row4\" >Iskadarya95</th>\n",
       "                        <td id=\"T_959ec5e4_7754_11ea_8195_acbc32c4a3d5row4_col0\" class=\"data row4 col0\" >3</td>\n",
       "                        <td id=\"T_959ec5e4_7754_11ea_8195_acbc32c4a3d5row4_col1\" class=\"data row4 col1\" >$4.37</td>\n",
       "                        <td id=\"T_959ec5e4_7754_11ea_8195_acbc32c4a3d5row4_col2\" class=\"data row4 col2\" >$13.10</td>\n",
       "            </tr>\n",
       "    </tbody></table>"
      ],
      "text/plain": [
       "<pandas.io.formats.style.Styler at 0x11d230b38>"
      ]
     },
     "execution_count": 8,
     "metadata": {},
     "output_type": "execute_result"
    }
   ],
   "source": [
    "# Groupby by both SN and get the Price column out\n",
    "Spender=purchase_data.groupby(\"SN\")[\"Price\"]\n",
    "# calculate\n",
    "Spender_count = Spender.count()\n",
    "Spender_mean=Spender.mean()\n",
    "Spender_sum=Spender.sum()\n",
    "# generate a summary table\n",
    "Spender_df=pd.DataFrame({'Purchase Count':Spender_count,\n",
    "                        'Average Purchase Price': Spender_mean,\n",
    "                        'Total Purchase Value': Spender_sum})\n",
    "# sort based on the Total purchase value by descending order\n",
    "Spender_sort=Spender_df.sort_values('Total Purchase Value', ascending=False)\n",
    "\n",
    "#display the first five\n",
    "Spender_display=Spender_sort.head(5)\n",
    "\n",
    "#format \n",
    "Spender_display=Spender_display.style.format({'Average Purchase Price':'${:,.2f}',\n",
    "                                     'Total Purchase Value':'${:,.2f}'})\n",
    "Spender_display"
   ]
  },
  {
   "cell_type": "markdown",
   "metadata": {},
   "source": [
    "## Most Popular Items"
   ]
  },
  {
   "cell_type": "markdown",
   "metadata": {},
   "source": [
    "* Retrieve the Item ID, Item Name, and Item Price columns\n",
    "\n",
    "\n",
    "* Group by Item ID and Item Name. Perform calculations to obtain purchase count, item price, and total purchase value\n",
    "\n",
    "\n",
    "* Create a summary data frame to hold the results\n",
    "\n",
    "\n",
    "* Sort the purchase count column in descending order\n",
    "\n",
    "\n",
    "* Optional: give the displayed data cleaner formatting\n",
    "\n",
    "\n",
    "* Display a preview of the summary data frame\n",
    "\n"
   ]
  },
  {
   "cell_type": "code",
   "execution_count": 9,
   "metadata": {},
   "outputs": [
    {
     "data": {
      "text/html": [
       "<style  type=\"text/css\" >\n",
       "</style><table id=\"T_95a18a22_7754_11ea_bda9_acbc32c4a3d5\" ><thead>    <tr>        <th class=\"blank\" ></th>        <th class=\"blank level0\" ></th>        <th class=\"col_heading level0 col0\" >Purchase Count</th>        <th class=\"col_heading level0 col1\" >Item Price</th>        <th class=\"col_heading level0 col2\" >Total Purchase Value</th>    </tr>    <tr>        <th class=\"index_name level0\" >Item ID</th>        <th class=\"index_name level1\" >Item Name</th>        <th class=\"blank\" ></th>        <th class=\"blank\" ></th>        <th class=\"blank\" ></th>    </tr></thead><tbody>\n",
       "                <tr>\n",
       "                        <th id=\"T_95a18a22_7754_11ea_bda9_acbc32c4a3d5level0_row0\" class=\"row_heading level0 row0\" >92</th>\n",
       "                        <th id=\"T_95a18a22_7754_11ea_bda9_acbc32c4a3d5level1_row0\" class=\"row_heading level1 row0\" >Final Critic</th>\n",
       "                        <td id=\"T_95a18a22_7754_11ea_bda9_acbc32c4a3d5row0_col0\" class=\"data row0 col0\" >13</td>\n",
       "                        <td id=\"T_95a18a22_7754_11ea_bda9_acbc32c4a3d5row0_col1\" class=\"data row0 col1\" >$4.61</td>\n",
       "                        <td id=\"T_95a18a22_7754_11ea_bda9_acbc32c4a3d5row0_col2\" class=\"data row0 col2\" >$59.99</td>\n",
       "            </tr>\n",
       "            <tr>\n",
       "                        <th id=\"T_95a18a22_7754_11ea_bda9_acbc32c4a3d5level0_row1\" class=\"row_heading level0 row1\" >178</th>\n",
       "                        <th id=\"T_95a18a22_7754_11ea_bda9_acbc32c4a3d5level1_row1\" class=\"row_heading level1 row1\" >Oathbreaker, Last Hope of the Breaking Storm</th>\n",
       "                        <td id=\"T_95a18a22_7754_11ea_bda9_acbc32c4a3d5row1_col0\" class=\"data row1 col0\" >12</td>\n",
       "                        <td id=\"T_95a18a22_7754_11ea_bda9_acbc32c4a3d5row1_col1\" class=\"data row1 col1\" >$4.23</td>\n",
       "                        <td id=\"T_95a18a22_7754_11ea_bda9_acbc32c4a3d5row1_col2\" class=\"data row1 col2\" >$50.76</td>\n",
       "            </tr>\n",
       "            <tr>\n",
       "                        <th id=\"T_95a18a22_7754_11ea_bda9_acbc32c4a3d5level0_row2\" class=\"row_heading level0 row2\" >145</th>\n",
       "                        <th id=\"T_95a18a22_7754_11ea_bda9_acbc32c4a3d5level1_row2\" class=\"row_heading level1 row2\" >Fiery Glass Crusader</th>\n",
       "                        <td id=\"T_95a18a22_7754_11ea_bda9_acbc32c4a3d5row2_col0\" class=\"data row2 col0\" >9</td>\n",
       "                        <td id=\"T_95a18a22_7754_11ea_bda9_acbc32c4a3d5row2_col1\" class=\"data row2 col1\" >$4.58</td>\n",
       "                        <td id=\"T_95a18a22_7754_11ea_bda9_acbc32c4a3d5row2_col2\" class=\"data row2 col2\" >$41.22</td>\n",
       "            </tr>\n",
       "            <tr>\n",
       "                        <th id=\"T_95a18a22_7754_11ea_bda9_acbc32c4a3d5level0_row3\" class=\"row_heading level0 row3\" >132</th>\n",
       "                        <th id=\"T_95a18a22_7754_11ea_bda9_acbc32c4a3d5level1_row3\" class=\"row_heading level1 row3\" >Persuasion</th>\n",
       "                        <td id=\"T_95a18a22_7754_11ea_bda9_acbc32c4a3d5row3_col0\" class=\"data row3 col0\" >9</td>\n",
       "                        <td id=\"T_95a18a22_7754_11ea_bda9_acbc32c4a3d5row3_col1\" class=\"data row3 col1\" >$3.22</td>\n",
       "                        <td id=\"T_95a18a22_7754_11ea_bda9_acbc32c4a3d5row3_col2\" class=\"data row3 col2\" >$28.99</td>\n",
       "            </tr>\n",
       "            <tr>\n",
       "                        <th id=\"T_95a18a22_7754_11ea_bda9_acbc32c4a3d5level0_row4\" class=\"row_heading level0 row4\" >108</th>\n",
       "                        <th id=\"T_95a18a22_7754_11ea_bda9_acbc32c4a3d5level1_row4\" class=\"row_heading level1 row4\" >Extraction, Quickblade Of Trembling Hands</th>\n",
       "                        <td id=\"T_95a18a22_7754_11ea_bda9_acbc32c4a3d5row4_col0\" class=\"data row4 col0\" >9</td>\n",
       "                        <td id=\"T_95a18a22_7754_11ea_bda9_acbc32c4a3d5row4_col1\" class=\"data row4 col1\" >$3.53</td>\n",
       "                        <td id=\"T_95a18a22_7754_11ea_bda9_acbc32c4a3d5row4_col2\" class=\"data row4 col2\" >$31.77</td>\n",
       "            </tr>\n",
       "    </tbody></table>"
      ],
      "text/plain": [
       "<pandas.io.formats.style.Styler at 0x11e48aef0>"
      ]
     },
     "execution_count": 9,
     "metadata": {},
     "output_type": "execute_result"
    }
   ],
   "source": [
    "# Generate a new dataframe with only three columns\n",
    "most_popular_items=purchase_data[['Item ID', 'Item Name', 'Price']]\n",
    "# Groupby two variables: item ID and item name\n",
    "mpi_groupby=most_popular_items.groupby(['Item ID','Item Name'])\n",
    "# Calculate\n",
    "purchase_count=mpi_groupby['Item Name'].count()\n",
    "Total_purchase=mpi_groupby['Price'].sum()\n",
    "Item_price=Total_purchase/purchase_count\n",
    "#generate the summary table\n",
    "mpi=pd.DataFrame({\"Purchase Count\":purchase_count,\n",
    "                 \"Item Price\": Item_price,\n",
    "                 \"Total Purchase Value\":Total_purchase})\n",
    "# sort values based on the purchase count\n",
    "mpi_sort=mpi.sort_values(\"Purchase Count\",ascending=False)\n",
    "# display only five and format\n",
    "mpi_display=mpi_sort.head(5)\n",
    "mpi_display=mpi_display.style.format({'Item Price':'${:,.2f}',\n",
    "                                     'Total Purchase Value':'${:,.2f}'})\n",
    "mpi_display"
   ]
  },
  {
   "cell_type": "markdown",
   "metadata": {},
   "source": [
    "## Most Profitable Items"
   ]
  },
  {
   "cell_type": "markdown",
   "metadata": {},
   "source": [
    "* Sort the above table by total purchase value in descending order\n",
    "\n",
    "\n",
    "* Optional: give the displayed data cleaner formatting\n",
    "\n",
    "\n",
    "* Display a preview of the data frame\n",
    "\n"
   ]
  },
  {
   "cell_type": "code",
   "execution_count": 10,
   "metadata": {
    "scrolled": true
   },
   "outputs": [
    {
     "data": {
      "text/html": [
       "<style  type=\"text/css\" >\n",
       "</style><table id=\"T_95a306e2_7754_11ea_8208_acbc32c4a3d5\" ><thead>    <tr>        <th class=\"blank\" ></th>        <th class=\"blank level0\" ></th>        <th class=\"col_heading level0 col0\" >Purchase Count</th>        <th class=\"col_heading level0 col1\" >Item Price</th>        <th class=\"col_heading level0 col2\" >Total Purchase Value</th>    </tr>    <tr>        <th class=\"index_name level0\" >Item ID</th>        <th class=\"index_name level1\" >Item Name</th>        <th class=\"blank\" ></th>        <th class=\"blank\" ></th>        <th class=\"blank\" ></th>    </tr></thead><tbody>\n",
       "                <tr>\n",
       "                        <th id=\"T_95a306e2_7754_11ea_8208_acbc32c4a3d5level0_row0\" class=\"row_heading level0 row0\" >92</th>\n",
       "                        <th id=\"T_95a306e2_7754_11ea_8208_acbc32c4a3d5level1_row0\" class=\"row_heading level1 row0\" >Final Critic</th>\n",
       "                        <td id=\"T_95a306e2_7754_11ea_8208_acbc32c4a3d5row0_col0\" class=\"data row0 col0\" >13</td>\n",
       "                        <td id=\"T_95a306e2_7754_11ea_8208_acbc32c4a3d5row0_col1\" class=\"data row0 col1\" >$4.61</td>\n",
       "                        <td id=\"T_95a306e2_7754_11ea_8208_acbc32c4a3d5row0_col2\" class=\"data row0 col2\" >$59.99</td>\n",
       "            </tr>\n",
       "            <tr>\n",
       "                        <th id=\"T_95a306e2_7754_11ea_8208_acbc32c4a3d5level0_row1\" class=\"row_heading level0 row1\" >178</th>\n",
       "                        <th id=\"T_95a306e2_7754_11ea_8208_acbc32c4a3d5level1_row1\" class=\"row_heading level1 row1\" >Oathbreaker, Last Hope of the Breaking Storm</th>\n",
       "                        <td id=\"T_95a306e2_7754_11ea_8208_acbc32c4a3d5row1_col0\" class=\"data row1 col0\" >12</td>\n",
       "                        <td id=\"T_95a306e2_7754_11ea_8208_acbc32c4a3d5row1_col1\" class=\"data row1 col1\" >$4.23</td>\n",
       "                        <td id=\"T_95a306e2_7754_11ea_8208_acbc32c4a3d5row1_col2\" class=\"data row1 col2\" >$50.76</td>\n",
       "            </tr>\n",
       "            <tr>\n",
       "                        <th id=\"T_95a306e2_7754_11ea_8208_acbc32c4a3d5level0_row2\" class=\"row_heading level0 row2\" >82</th>\n",
       "                        <th id=\"T_95a306e2_7754_11ea_8208_acbc32c4a3d5level1_row2\" class=\"row_heading level1 row2\" >Nirvana</th>\n",
       "                        <td id=\"T_95a306e2_7754_11ea_8208_acbc32c4a3d5row2_col0\" class=\"data row2 col0\" >9</td>\n",
       "                        <td id=\"T_95a306e2_7754_11ea_8208_acbc32c4a3d5row2_col1\" class=\"data row2 col1\" >$4.90</td>\n",
       "                        <td id=\"T_95a306e2_7754_11ea_8208_acbc32c4a3d5row2_col2\" class=\"data row2 col2\" >$44.10</td>\n",
       "            </tr>\n",
       "            <tr>\n",
       "                        <th id=\"T_95a306e2_7754_11ea_8208_acbc32c4a3d5level0_row3\" class=\"row_heading level0 row3\" >145</th>\n",
       "                        <th id=\"T_95a306e2_7754_11ea_8208_acbc32c4a3d5level1_row3\" class=\"row_heading level1 row3\" >Fiery Glass Crusader</th>\n",
       "                        <td id=\"T_95a306e2_7754_11ea_8208_acbc32c4a3d5row3_col0\" class=\"data row3 col0\" >9</td>\n",
       "                        <td id=\"T_95a306e2_7754_11ea_8208_acbc32c4a3d5row3_col1\" class=\"data row3 col1\" >$4.58</td>\n",
       "                        <td id=\"T_95a306e2_7754_11ea_8208_acbc32c4a3d5row3_col2\" class=\"data row3 col2\" >$41.22</td>\n",
       "            </tr>\n",
       "            <tr>\n",
       "                        <th id=\"T_95a306e2_7754_11ea_8208_acbc32c4a3d5level0_row4\" class=\"row_heading level0 row4\" >103</th>\n",
       "                        <th id=\"T_95a306e2_7754_11ea_8208_acbc32c4a3d5level1_row4\" class=\"row_heading level1 row4\" >Singed Scalpel</th>\n",
       "                        <td id=\"T_95a306e2_7754_11ea_8208_acbc32c4a3d5row4_col0\" class=\"data row4 col0\" >8</td>\n",
       "                        <td id=\"T_95a306e2_7754_11ea_8208_acbc32c4a3d5row4_col1\" class=\"data row4 col1\" >$4.35</td>\n",
       "                        <td id=\"T_95a306e2_7754_11ea_8208_acbc32c4a3d5row4_col2\" class=\"data row4 col2\" >$34.80</td>\n",
       "            </tr>\n",
       "    </tbody></table>"
      ],
      "text/plain": [
       "<pandas.io.formats.style.Styler at 0x11d2305c0>"
      ]
     },
     "execution_count": 10,
     "metadata": {},
     "output_type": "execute_result"
    }
   ],
   "source": [
    "# use the above dataframe as input and sort based on total purchase value\n",
    "mpi_sort_2=mpi.sort_values(\"Total Purchase Value\",ascending=False)\n",
    "# display the first five and format\n",
    "mpi_sort_2_display=mpi_sort_2.head(5)\n",
    "mpi_sort_2_display=mpi_sort_2_display.style.format({'Item Price':'${:,.2f}',\n",
    "                                     'Total Purchase Value':'${:,.2f}'})\n",
    "mpi_sort_2_display"
   ]
  }
 ],
 "metadata": {
  "anaconda-cloud": {},
  "kernel_info": {
   "name": "python3"
  },
  "kernelspec": {
   "display_name": "PythonData",
   "language": "python",
   "name": "pythondata"
  },
  "language_info": {
   "codemirror_mode": {
    "name": "ipython",
    "version": 3
   },
   "file_extension": ".py",
   "mimetype": "text/x-python",
   "name": "python",
   "nbconvert_exporter": "python",
   "pygments_lexer": "ipython3",
   "version": "3.6.10"
  },
  "latex_envs": {
   "LaTeX_envs_menu_present": true,
   "autoclose": false,
   "autocomplete": true,
   "bibliofile": "biblio.bib",
   "cite_by": "apalike",
   "current_citInitial": 1,
   "eqLabelWithNumbers": true,
   "eqNumInitial": 1,
   "hotkeys": {
    "equation": "Ctrl-E",
    "itemize": "Ctrl-I"
   },
   "labels_anchors": false,
   "latex_user_defs": false,
   "report_style_numbering": false,
   "user_envs_cfg": false
  },
  "nteract": {
   "version": "0.2.0"
  }
 },
 "nbformat": 4,
 "nbformat_minor": 4
}
