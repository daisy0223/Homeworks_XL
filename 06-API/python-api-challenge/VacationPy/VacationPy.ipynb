{
 "cells": [
  {
   "cell_type": "markdown",
   "metadata": {},
   "source": [
    "# VacationPy\n",
    "----\n",
    "\n",
    "#### Note\n",
    "* Instructions have been included for each segment. You do not have to follow them exactly, but they are included to help you think through the steps."
   ]
  },
  {
   "cell_type": "markdown",
   "metadata": {},
   "source": [
    "# Please use jupyter notebook to check this homework. Jupyter lab is not working"
   ]
  },
  {
   "cell_type": "code",
   "execution_count": 2,
   "metadata": {},
   "outputs": [],
   "source": [
    "# Dependencies and Setup\n",
    "import matplotlib.pyplot as plt\n",
    "import pandas as pd\n",
    "import numpy as np\n",
    "import requests\n",
    "import gmaps\n",
    "import os\n",
    "\n",
    "# Import API key\n",
    "from api_keys import g_key"
   ]
  },
  {
   "cell_type": "markdown",
   "metadata": {},
   "source": [
    "### Store Part I results into DataFrame\n",
    "* Load the csv exported in Part I to a DataFrame"
   ]
  },
  {
   "cell_type": "code",
   "execution_count": 3,
   "metadata": {},
   "outputs": [
    {
     "name": "stdout",
     "output_type": "stream",
     "text": [
      "<class 'pandas.core.frame.DataFrame'>\n",
      "RangeIndex: 540 entries, 0 to 539\n",
      "Data columns (total 9 columns):\n",
      " #   Column      Non-Null Count  Dtype  \n",
      "---  ------      --------------  -----  \n",
      " 0   City        540 non-null    object \n",
      " 1   Cloudiness  540 non-null    int64  \n",
      " 2   Country     538 non-null    object \n",
      " 3   Date        540 non-null    int64  \n",
      " 4   Humidity    540 non-null    int64  \n",
      " 5   Lat         540 non-null    float64\n",
      " 6   Lng         540 non-null    float64\n",
      " 7   Max Temp    540 non-null    float64\n",
      " 8   Wind Speed  540 non-null    float64\n",
      "dtypes: float64(4), int64(3), object(2)\n",
      "memory usage: 38.1+ KB\n"
     ]
    }
   ],
   "source": [
    "citydata = pd.read_csv(\"citydata.csv\")\n",
    "#len(citydata[\"City\"].unique())\n",
    "citydata.info()"
   ]
  },
  {
   "cell_type": "markdown",
   "metadata": {},
   "source": [
    "### Humidity Heatmap\n",
    "* Configure gmaps.\n",
    "* Use the Lat and Lng as locations and Humidity as the weight.\n",
    "* Add Heatmap layer to map."
   ]
  },
  {
   "cell_type": "code",
   "execution_count": 4,
   "metadata": {},
   "outputs": [
    {
     "data": {
      "application/vnd.jupyter.widget-view+json": {
       "model_id": "f3839e06369a40c8858131e98150c2e7",
       "version_major": 2,
       "version_minor": 0
      },
      "text/plain": [
       "Figure(layout=FigureLayout(height='420px'))"
      ]
     },
     "metadata": {},
     "output_type": "display_data"
    }
   ],
   "source": [
    "# configure gmaps\n",
    "gmaps.configure(api_key=g_key)\n",
    "\n",
    "# Store latitude and longitude in locations\n",
    "locations = citydata[[\"Lat\", \"Lng\"]]\n",
    "humidity = citydata[\"Humidity\"].astype(float)\n",
    "maxhumidity=humidity.max()\n",
    "\n",
    "# Plot Heatmap\n",
    "fig = gmaps.figure()\n",
    "\n",
    "# Create heat layer\n",
    "heat_layer = gmaps.heatmap_layer(locations, weights=humidity, \n",
    "                                 dissipating=False, max_intensity=maxhumidity,\n",
    "                                 point_radius=4)\n",
    "# Add layer\n",
    "fig.add_layer(heat_layer)\n",
    "\n",
    "# Display figure\n",
    "fig"
   ]
  },
  {
   "cell_type": "markdown",
   "metadata": {},
   "source": [
    "### Create new DataFrame fitting weather criteria\n",
    "* Narrow down the cities to fit weather conditions.\n",
    "* Drop any rows will null values."
   ]
  },
  {
   "cell_type": "code",
   "execution_count": 5,
   "metadata": {},
   "outputs": [
    {
     "data": {
      "text/html": [
       "<div>\n",
       "<style scoped>\n",
       "    .dataframe tbody tr th:only-of-type {\n",
       "        vertical-align: middle;\n",
       "    }\n",
       "\n",
       "    .dataframe tbody tr th {\n",
       "        vertical-align: top;\n",
       "    }\n",
       "\n",
       "    .dataframe thead th {\n",
       "        text-align: right;\n",
       "    }\n",
       "</style>\n",
       "<table border=\"1\" class=\"dataframe\">\n",
       "  <thead>\n",
       "    <tr style=\"text-align: right;\">\n",
       "      <th></th>\n",
       "      <th>City</th>\n",
       "      <th>Cloudiness</th>\n",
       "      <th>Country</th>\n",
       "      <th>Date</th>\n",
       "      <th>Humidity</th>\n",
       "      <th>Lat</th>\n",
       "      <th>Lng</th>\n",
       "      <th>Max Temp</th>\n",
       "      <th>Wind Speed</th>\n",
       "    </tr>\n",
       "  </thead>\n",
       "  <tbody>\n",
       "    <tr>\n",
       "      <th>0</th>\n",
       "      <td>Pingdingshan</td>\n",
       "      <td>0</td>\n",
       "      <td>CN</td>\n",
       "      <td>1587272650</td>\n",
       "      <td>38</td>\n",
       "      <td>33.74</td>\n",
       "      <td>113.30</td>\n",
       "      <td>71.91</td>\n",
       "      <td>9.69</td>\n",
       "    </tr>\n",
       "    <tr>\n",
       "      <th>1</th>\n",
       "      <td>Port Elizabeth</td>\n",
       "      <td>0</td>\n",
       "      <td>ZA</td>\n",
       "      <td>1587272803</td>\n",
       "      <td>37</td>\n",
       "      <td>-33.92</td>\n",
       "      <td>25.57</td>\n",
       "      <td>72.54</td>\n",
       "      <td>8.10</td>\n",
       "    </tr>\n",
       "    <tr>\n",
       "      <th>2</th>\n",
       "      <td>San Juan</td>\n",
       "      <td>0</td>\n",
       "      <td>AR</td>\n",
       "      <td>1587272916</td>\n",
       "      <td>38</td>\n",
       "      <td>-31.54</td>\n",
       "      <td>-68.54</td>\n",
       "      <td>70.23</td>\n",
       "      <td>6.62</td>\n",
       "    </tr>\n",
       "    <tr>\n",
       "      <th>3</th>\n",
       "      <td>Bereket</td>\n",
       "      <td>0</td>\n",
       "      <td>TM</td>\n",
       "      <td>1587273039</td>\n",
       "      <td>26</td>\n",
       "      <td>39.24</td>\n",
       "      <td>55.52</td>\n",
       "      <td>78.98</td>\n",
       "      <td>8.34</td>\n",
       "    </tr>\n",
       "  </tbody>\n",
       "</table>\n",
       "</div>"
      ],
      "text/plain": [
       "             City  Cloudiness Country        Date  Humidity    Lat     Lng  \\\n",
       "0    Pingdingshan           0      CN  1587272650        38  33.74  113.30   \n",
       "1  Port Elizabeth           0      ZA  1587272803        37 -33.92   25.57   \n",
       "2        San Juan           0      AR  1587272916        38 -31.54  -68.54   \n",
       "3         Bereket           0      TM  1587273039        26  39.24   55.52   \n",
       "\n",
       "   Max Temp  Wind Speed  \n",
       "0     71.91        9.69  \n",
       "1     72.54        8.10  \n",
       "2     70.23        6.62  \n",
       "3     78.98        8.34  "
      ]
     },
     "execution_count": 5,
     "metadata": {},
     "output_type": "execute_result"
    }
   ],
   "source": [
    "# new dataframe fitting weather criteria\n",
    "new_df=citydata.loc[(citydata[\"Max Temp\"]> 70) & (citydata[\"Max Temp\"] < 80) & (citydata[\"Wind Speed\"] < 10) & (citydata [\"Cloudiness\"]==0)] \n",
    "new_df = new_df.dropna(how='any')\n",
    "new_df=new_df.reset_index(drop=True) \n",
    "new_df"
   ]
  },
  {
   "cell_type": "markdown",
   "metadata": {},
   "source": [
    "### Hotel Map\n",
    "* Store into variable named `hotel_df`.\n",
    "* Add a \"Hotel Name\" column to the DataFrame.\n",
    "* Set parameters to search for hotels with 5000 meters.\n",
    "* Hit the Google Places API for each city's coordinates.\n",
    "* Store the first Hotel result into the DataFrame.\n",
    "* Plot markers on top of the heatmap."
   ]
  },
  {
   "cell_type": "code",
   "execution_count": 7,
   "metadata": {},
   "outputs": [
    {
     "data": {
      "text/html": [
       "<div>\n",
       "<style scoped>\n",
       "    .dataframe tbody tr th:only-of-type {\n",
       "        vertical-align: middle;\n",
       "    }\n",
       "\n",
       "    .dataframe tbody tr th {\n",
       "        vertical-align: top;\n",
       "    }\n",
       "\n",
       "    .dataframe thead th {\n",
       "        text-align: right;\n",
       "    }\n",
       "</style>\n",
       "<table border=\"1\" class=\"dataframe\">\n",
       "  <thead>\n",
       "    <tr style=\"text-align: right;\">\n",
       "      <th></th>\n",
       "      <th>City</th>\n",
       "      <th>Cloudiness</th>\n",
       "      <th>Country</th>\n",
       "      <th>Date</th>\n",
       "      <th>Humidity</th>\n",
       "      <th>Lat</th>\n",
       "      <th>Lng</th>\n",
       "      <th>Max Temp</th>\n",
       "      <th>Wind Speed</th>\n",
       "      <th>Hotel Name</th>\n",
       "    </tr>\n",
       "  </thead>\n",
       "  <tbody>\n",
       "    <tr>\n",
       "      <th>0</th>\n",
       "      <td>Pingdingshan</td>\n",
       "      <td>0</td>\n",
       "      <td>CN</td>\n",
       "      <td>1587272650</td>\n",
       "      <td>38</td>\n",
       "      <td>33.74</td>\n",
       "      <td>113.30</td>\n",
       "      <td>71.91</td>\n",
       "      <td>9.69</td>\n",
       "      <td>Pingdingshan</td>\n",
       "    </tr>\n",
       "    <tr>\n",
       "      <th>1</th>\n",
       "      <td>Port Elizabeth</td>\n",
       "      <td>0</td>\n",
       "      <td>ZA</td>\n",
       "      <td>1587272803</td>\n",
       "      <td>37</td>\n",
       "      <td>-33.92</td>\n",
       "      <td>25.57</td>\n",
       "      <td>72.54</td>\n",
       "      <td>8.10</td>\n",
       "      <td>Port Elizabeth</td>\n",
       "    </tr>\n",
       "    <tr>\n",
       "      <th>2</th>\n",
       "      <td>San Juan</td>\n",
       "      <td>0</td>\n",
       "      <td>AR</td>\n",
       "      <td>1587272916</td>\n",
       "      <td>38</td>\n",
       "      <td>-31.54</td>\n",
       "      <td>-68.54</td>\n",
       "      <td>70.23</td>\n",
       "      <td>6.62</td>\n",
       "      <td>San Juan</td>\n",
       "    </tr>\n",
       "    <tr>\n",
       "      <th>3</th>\n",
       "      <td>Bereket</td>\n",
       "      <td>0</td>\n",
       "      <td>TM</td>\n",
       "      <td>1587273039</td>\n",
       "      <td>26</td>\n",
       "      <td>39.24</td>\n",
       "      <td>55.52</td>\n",
       "      <td>78.98</td>\n",
       "      <td>8.34</td>\n",
       "      <td>Bereket</td>\n",
       "    </tr>\n",
       "  </tbody>\n",
       "</table>\n",
       "</div>"
      ],
      "text/plain": [
       "             City  Cloudiness Country        Date  Humidity    Lat     Lng  \\\n",
       "0    Pingdingshan           0      CN  1587272650        38  33.74  113.30   \n",
       "1  Port Elizabeth           0      ZA  1587272803        37 -33.92   25.57   \n",
       "2        San Juan           0      AR  1587272916        38 -31.54  -68.54   \n",
       "3         Bereket           0      TM  1587273039        26  39.24   55.52   \n",
       "\n",
       "   Max Temp  Wind Speed      Hotel Name  \n",
       "0     71.91        9.69    Pingdingshan  \n",
       "1     72.54        8.10  Port Elizabeth  \n",
       "2     70.23        6.62        San Juan  \n",
       "3     78.98        8.34         Bereket  "
      ]
     },
     "execution_count": 7,
     "metadata": {},
     "output_type": "execute_result"
    }
   ],
   "source": [
    "# add Hotel Name into the dataframe\n",
    "hotel_df=new_df\n",
    "hotel_df[\"Hotel Name\"]=\"\"\n",
    "hotel_df\n",
    "\n",
    "# set an empty hotel list\n",
    "hotel = []\n",
    "\n",
    "# set for loop to use parameters to look for nearby hotels\n",
    "for i in range(len(hotel_df)):\n",
    "    lat = hotel_df.loc[i]['Lat']\n",
    "    lng = hotel_df.loc[i]['Lng']\n",
    "\n",
    "    params = {\n",
    "        \"location\": f\"{lat},{lng}\",\n",
    "        \"radius\": 5000,\n",
    "        \"types\" : \"hotel\",\n",
    "        \"key\": g_key\n",
    "    }\n",
    "    \n",
    "    base_url = \"https://maps.googleapis.com/maps/api/place/nearbysearch/json\"\n",
    "    requested = requests.get(base_url, params=params)\n",
    "    response = requested.json()\n",
    "    try:\n",
    "        hotel.append(response['results'][0]['name'])\n",
    "    except:\n",
    "        hotel.append(\"\")\n",
    "# add the hotel list into the column of \"Hotel Name\"\n",
    "hotel_df[\"Hotel Name\"] = hotel\n",
    "\n",
    "#drop any NA\n",
    "hotel_df = hotel_df.dropna(how='any')\n",
    "\n",
    "# display the results\n",
    "hotel_df.head()"
   ]
  },
  {
   "cell_type": "code",
   "execution_count": 8,
   "metadata": {},
   "outputs": [],
   "source": [
    "# NOTE: Do not change any of the code in this cell\n",
    "\n",
    "# Using the template add the hotel marks to the heatmap\n",
    "info_box_template = \"\"\"\n",
    "<dl>\n",
    "<dt>Name</dt><dd>{Hotel Name}</dd>\n",
    "<dt>City</dt><dd>{City}</dd>\n",
    "<dt>Country</dt><dd>{Country}</dd>\n",
    "</dl>\n",
    "\"\"\"\n",
    "# Store the DataFrame Row\n",
    "# NOTE: be sure to update with your DataFrame name\n",
    "hotel_info = [info_box_template.format(**row) for index, row in hotel_df.iterrows()]\n",
    "locations = hotel_df[[\"Lat\", \"Lng\"]]"
   ]
  },
  {
   "cell_type": "code",
   "execution_count": 9,
   "metadata": {},
   "outputs": [
    {
     "data": {
      "application/vnd.jupyter.widget-view+json": {
       "model_id": "f3839e06369a40c8858131e98150c2e7",
       "version_major": 2,
       "version_minor": 0
      },
      "text/plain": [
       "Figure(layout=FigureLayout(height='420px'))"
      ]
     },
     "metadata": {},
     "output_type": "display_data"
    }
   ],
   "source": [
    "# Add marker layer ontop of heat map\n",
    "markers = gmaps.marker_layer(locations)\n",
    "fig.add_layer(markers)\n",
    "# Display Map\n",
    "fig"
   ]
  },
  {
   "cell_type": "markdown",
   "metadata": {},
   "source": [
    "# please use jupyter notebook to run this code, the jupyter lab did not work"
   ]
  }
 ],
 "metadata": {
  "kernelspec": {
   "display_name": "PythonData",
   "language": "python",
   "name": "pythondata"
  },
  "language_info": {
   "codemirror_mode": {
    "name": "ipython",
    "version": 3
   },
   "file_extension": ".py",
   "mimetype": "text/x-python",
   "name": "python",
   "nbconvert_exporter": "python",
   "pygments_lexer": "ipython3",
   "version": "3.6.10"
  },
  "latex_envs": {
   "LaTeX_envs_menu_present": true,
   "autoclose": false,
   "autocomplete": true,
   "bibliofile": "biblio.bib",
   "cite_by": "apalike",
   "current_citInitial": 1,
   "eqLabelWithNumbers": true,
   "eqNumInitial": 1,
   "hotkeys": {
    "equation": "Ctrl-E",
    "itemize": "Ctrl-I"
   },
   "labels_anchors": false,
   "latex_user_defs": false,
   "report_style_numbering": false,
   "user_envs_cfg": false
  }
 },
 "nbformat": 4,
 "nbformat_minor": 4
}
